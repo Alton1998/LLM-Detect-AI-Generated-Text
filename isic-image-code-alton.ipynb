{
 "cells": [
  {
   "cell_type": "code",
   "execution_count": 1,
   "id": "eb46cf32",
   "metadata": {
    "_cell_guid": "b1076dfc-b9ad-4769-8c92-a6c4dae69d19",
    "_uuid": "8f2839f25d086af736a60e9eeb907d3b93b6e0e5",
    "execution": {
     "iopub.execute_input": "2024-07-10T19:35:57.223357Z",
     "iopub.status.busy": "2024-07-10T19:35:57.222927Z",
     "iopub.status.idle": "2024-07-10T19:36:15.008483Z",
     "shell.execute_reply": "2024-07-10T19:36:15.007214Z"
    },
    "papermill": {
     "duration": 17.7997,
     "end_time": "2024-07-10T19:36:15.011407",
     "exception": false,
     "start_time": "2024-07-10T19:35:57.211707",
     "status": "completed"
    },
    "tags": []
   },
   "outputs": [
    {
     "name": "stderr",
     "output_type": "stream",
     "text": [
      "2024-07-10 19:36:01.353298: E external/local_xla/xla/stream_executor/cuda/cuda_dnn.cc:9261] Unable to register cuDNN factory: Attempting to register factory for plugin cuDNN when one has already been registered\n",
      "2024-07-10 19:36:01.353453: E external/local_xla/xla/stream_executor/cuda/cuda_fft.cc:607] Unable to register cuFFT factory: Attempting to register factory for plugin cuFFT when one has already been registered\n",
      "2024-07-10 19:36:01.567561: E external/local_xla/xla/stream_executor/cuda/cuda_blas.cc:1515] Unable to register cuBLAS factory: Attempting to register factory for plugin cuBLAS when one has already been registered\n"
     ]
    }
   ],
   "source": [
    "import numpy as np\n",
    "import pandas as pd\n",
    "import matplotlib.pyplot as plt\n",
    "import tensorflow as tf\n",
    "import os\n",
    "import h5py\n",
    "import shutil\n",
    "import cv2"
   ]
  },
  {
   "cell_type": "code",
   "execution_count": 2,
   "id": "0248fb83",
   "metadata": {
    "execution": {
     "iopub.execute_input": "2024-07-10T19:36:15.031861Z",
     "iopub.status.busy": "2024-07-10T19:36:15.030433Z",
     "iopub.status.idle": "2024-07-10T19:36:15.037688Z",
     "shell.execute_reply": "2024-07-10T19:36:15.036590Z"
    },
    "papermill": {
     "duration": 0.019971,
     "end_time": "2024-07-10T19:36:15.040310",
     "exception": false,
     "start_time": "2024-07-10T19:36:15.020339",
     "status": "completed"
    },
    "tags": []
   },
   "outputs": [
    {
     "name": "stdout",
     "output_type": "stream",
     "text": [
      "['sample_submission.csv', 'train-metadata.csv', 'test-metadata.csv', 'test-image.hdf5', 'train-image', 'train-image.hdf5']\n"
     ]
    }
   ],
   "source": [
    "DIR = \"/kaggle/input/isic-2024-challenge\"\n",
    "print(os.listdir(DIR))"
   ]
  },
  {
   "cell_type": "code",
   "execution_count": 3,
   "id": "0f68ce52",
   "metadata": {
    "execution": {
     "iopub.execute_input": "2024-07-10T19:36:15.059467Z",
     "iopub.status.busy": "2024-07-10T19:36:15.059045Z",
     "iopub.status.idle": "2024-07-10T19:36:15.064201Z",
     "shell.execute_reply": "2024-07-10T19:36:15.063166Z"
    },
    "papermill": {
     "duration": 0.017671,
     "end_time": "2024-07-10T19:36:15.066789",
     "exception": false,
     "start_time": "2024-07-10T19:36:15.049118",
     "status": "completed"
    },
    "tags": []
   },
   "outputs": [],
   "source": [
    "train_dir = os.path.join(DIR,\"train-image\",\"image\")"
   ]
  },
  {
   "cell_type": "code",
   "execution_count": 4,
   "id": "d3cb4d18",
   "metadata": {
    "execution": {
     "iopub.execute_input": "2024-07-10T19:36:15.086577Z",
     "iopub.status.busy": "2024-07-10T19:36:15.085441Z",
     "iopub.status.idle": "2024-07-10T19:36:18.583124Z",
     "shell.execute_reply": "2024-07-10T19:36:18.582000Z"
    },
    "papermill": {
     "duration": 3.51068,
     "end_time": "2024-07-10T19:36:18.586143",
     "exception": false,
     "start_time": "2024-07-10T19:36:15.075463",
     "status": "completed"
    },
    "tags": []
   },
   "outputs": [
    {
     "data": {
      "text/plain": [
       "401059"
      ]
     },
     "execution_count": 4,
     "metadata": {},
     "output_type": "execute_result"
    }
   ],
   "source": [
    "# Number of images\n",
    "len(os.listdir(train_dir))"
   ]
  },
  {
   "cell_type": "code",
   "execution_count": 5,
   "id": "4e9ab180",
   "metadata": {
    "execution": {
     "iopub.execute_input": "2024-07-10T19:36:18.606353Z",
     "iopub.status.busy": "2024-07-10T19:36:18.605915Z",
     "iopub.status.idle": "2024-07-10T19:36:18.611488Z",
     "shell.execute_reply": "2024-07-10T19:36:18.610295Z"
    },
    "papermill": {
     "duration": 0.018588,
     "end_time": "2024-07-10T19:36:18.613933",
     "exception": false,
     "start_time": "2024-07-10T19:36:18.595345",
     "status": "completed"
    },
    "tags": []
   },
   "outputs": [],
   "source": [
    "training_meta_data_path = os.path.join(DIR,\"train-metadata.csv\")"
   ]
  },
  {
   "cell_type": "code",
   "execution_count": 6,
   "id": "9ddae685",
   "metadata": {
    "execution": {
     "iopub.execute_input": "2024-07-10T19:36:18.633628Z",
     "iopub.status.busy": "2024-07-10T19:36:18.633199Z",
     "iopub.status.idle": "2024-07-10T19:36:27.271678Z",
     "shell.execute_reply": "2024-07-10T19:36:27.270683Z"
    },
    "papermill": {
     "duration": 8.65168,
     "end_time": "2024-07-10T19:36:27.274538",
     "exception": false,
     "start_time": "2024-07-10T19:36:18.622858",
     "status": "completed"
    },
    "tags": []
   },
   "outputs": [
    {
     "name": "stderr",
     "output_type": "stream",
     "text": [
      "/tmp/ipykernel_18/367696351.py:1: DtypeWarning: Columns (51,52) have mixed types. Specify dtype option on import or set low_memory=False.\n",
      "  training_meta_data = pd.read_csv(training_meta_data_path)\n"
     ]
    }
   ],
   "source": [
    "training_meta_data = pd.read_csv(training_meta_data_path)"
   ]
  },
  {
   "cell_type": "code",
   "execution_count": 7,
   "id": "55b0d7fd",
   "metadata": {
    "execution": {
     "iopub.execute_input": "2024-07-10T19:36:27.294477Z",
     "iopub.status.busy": "2024-07-10T19:36:27.294080Z",
     "iopub.status.idle": "2024-07-10T19:36:27.607012Z",
     "shell.execute_reply": "2024-07-10T19:36:27.605855Z"
    },
    "papermill": {
     "duration": 0.326429,
     "end_time": "2024-07-10T19:36:27.610016",
     "exception": false,
     "start_time": "2024-07-10T19:36:27.283587",
     "status": "completed"
    },
    "tags": []
   },
   "outputs": [
    {
     "data": {
      "text/html": [
       "<div>\n",
       "<style scoped>\n",
       "    .dataframe tbody tr th:only-of-type {\n",
       "        vertical-align: middle;\n",
       "    }\n",
       "\n",
       "    .dataframe tbody tr th {\n",
       "        vertical-align: top;\n",
       "    }\n",
       "\n",
       "    .dataframe thead th {\n",
       "        text-align: right;\n",
       "    }\n",
       "</style>\n",
       "<table border=\"1\" class=\"dataframe\">\n",
       "  <thead>\n",
       "    <tr style=\"text-align: right;\">\n",
       "      <th></th>\n",
       "      <th>isic_id</th>\n",
       "      <th>target</th>\n",
       "      <th>patient_id</th>\n",
       "      <th>age_approx</th>\n",
       "      <th>sex</th>\n",
       "      <th>anatom_site_general</th>\n",
       "      <th>clin_size_long_diam_mm</th>\n",
       "      <th>image_type</th>\n",
       "      <th>tbp_tile_type</th>\n",
       "      <th>tbp_lv_A</th>\n",
       "      <th>...</th>\n",
       "      <th>lesion_id</th>\n",
       "      <th>iddx_full</th>\n",
       "      <th>iddx_1</th>\n",
       "      <th>iddx_2</th>\n",
       "      <th>iddx_3</th>\n",
       "      <th>iddx_4</th>\n",
       "      <th>iddx_5</th>\n",
       "      <th>mel_mitotic_index</th>\n",
       "      <th>mel_thick_mm</th>\n",
       "      <th>tbp_lv_dnn_lesion_confidence</th>\n",
       "    </tr>\n",
       "  </thead>\n",
       "  <tbody>\n",
       "    <tr>\n",
       "      <th>0</th>\n",
       "      <td>ISIC_0015670</td>\n",
       "      <td>0</td>\n",
       "      <td>IP_1235828</td>\n",
       "      <td>60.0</td>\n",
       "      <td>male</td>\n",
       "      <td>lower extremity</td>\n",
       "      <td>3.04</td>\n",
       "      <td>TBP tile: close-up</td>\n",
       "      <td>3D: white</td>\n",
       "      <td>20.244422</td>\n",
       "      <td>...</td>\n",
       "      <td>NaN</td>\n",
       "      <td>Benign</td>\n",
       "      <td>Benign</td>\n",
       "      <td>NaN</td>\n",
       "      <td>NaN</td>\n",
       "      <td>NaN</td>\n",
       "      <td>NaN</td>\n",
       "      <td>NaN</td>\n",
       "      <td>NaN</td>\n",
       "      <td>97.517282</td>\n",
       "    </tr>\n",
       "    <tr>\n",
       "      <th>1</th>\n",
       "      <td>ISIC_0015845</td>\n",
       "      <td>0</td>\n",
       "      <td>IP_8170065</td>\n",
       "      <td>60.0</td>\n",
       "      <td>male</td>\n",
       "      <td>head/neck</td>\n",
       "      <td>1.10</td>\n",
       "      <td>TBP tile: close-up</td>\n",
       "      <td>3D: white</td>\n",
       "      <td>31.712570</td>\n",
       "      <td>...</td>\n",
       "      <td>IL_6727506</td>\n",
       "      <td>Benign</td>\n",
       "      <td>Benign</td>\n",
       "      <td>NaN</td>\n",
       "      <td>NaN</td>\n",
       "      <td>NaN</td>\n",
       "      <td>NaN</td>\n",
       "      <td>NaN</td>\n",
       "      <td>NaN</td>\n",
       "      <td>3.141455</td>\n",
       "    </tr>\n",
       "    <tr>\n",
       "      <th>2</th>\n",
       "      <td>ISIC_0015864</td>\n",
       "      <td>0</td>\n",
       "      <td>IP_6724798</td>\n",
       "      <td>60.0</td>\n",
       "      <td>male</td>\n",
       "      <td>posterior torso</td>\n",
       "      <td>3.40</td>\n",
       "      <td>TBP tile: close-up</td>\n",
       "      <td>3D: XP</td>\n",
       "      <td>22.575830</td>\n",
       "      <td>...</td>\n",
       "      <td>NaN</td>\n",
       "      <td>Benign</td>\n",
       "      <td>Benign</td>\n",
       "      <td>NaN</td>\n",
       "      <td>NaN</td>\n",
       "      <td>NaN</td>\n",
       "      <td>NaN</td>\n",
       "      <td>NaN</td>\n",
       "      <td>NaN</td>\n",
       "      <td>99.804040</td>\n",
       "    </tr>\n",
       "    <tr>\n",
       "      <th>3</th>\n",
       "      <td>ISIC_0015902</td>\n",
       "      <td>0</td>\n",
       "      <td>IP_4111386</td>\n",
       "      <td>65.0</td>\n",
       "      <td>male</td>\n",
       "      <td>anterior torso</td>\n",
       "      <td>3.22</td>\n",
       "      <td>TBP tile: close-up</td>\n",
       "      <td>3D: XP</td>\n",
       "      <td>14.242329</td>\n",
       "      <td>...</td>\n",
       "      <td>NaN</td>\n",
       "      <td>Benign</td>\n",
       "      <td>Benign</td>\n",
       "      <td>NaN</td>\n",
       "      <td>NaN</td>\n",
       "      <td>NaN</td>\n",
       "      <td>NaN</td>\n",
       "      <td>NaN</td>\n",
       "      <td>NaN</td>\n",
       "      <td>99.989998</td>\n",
       "    </tr>\n",
       "    <tr>\n",
       "      <th>4</th>\n",
       "      <td>ISIC_0024200</td>\n",
       "      <td>0</td>\n",
       "      <td>IP_8313778</td>\n",
       "      <td>55.0</td>\n",
       "      <td>male</td>\n",
       "      <td>anterior torso</td>\n",
       "      <td>2.73</td>\n",
       "      <td>TBP tile: close-up</td>\n",
       "      <td>3D: white</td>\n",
       "      <td>24.725520</td>\n",
       "      <td>...</td>\n",
       "      <td>NaN</td>\n",
       "      <td>Benign</td>\n",
       "      <td>Benign</td>\n",
       "      <td>NaN</td>\n",
       "      <td>NaN</td>\n",
       "      <td>NaN</td>\n",
       "      <td>NaN</td>\n",
       "      <td>NaN</td>\n",
       "      <td>NaN</td>\n",
       "      <td>70.442510</td>\n",
       "    </tr>\n",
       "    <tr>\n",
       "      <th>...</th>\n",
       "      <td>...</td>\n",
       "      <td>...</td>\n",
       "      <td>...</td>\n",
       "      <td>...</td>\n",
       "      <td>...</td>\n",
       "      <td>...</td>\n",
       "      <td>...</td>\n",
       "      <td>...</td>\n",
       "      <td>...</td>\n",
       "      <td>...</td>\n",
       "      <td>...</td>\n",
       "      <td>...</td>\n",
       "      <td>...</td>\n",
       "      <td>...</td>\n",
       "      <td>...</td>\n",
       "      <td>...</td>\n",
       "      <td>...</td>\n",
       "      <td>...</td>\n",
       "      <td>...</td>\n",
       "      <td>...</td>\n",
       "      <td>...</td>\n",
       "    </tr>\n",
       "    <tr>\n",
       "      <th>401054</th>\n",
       "      <td>ISIC_9999937</td>\n",
       "      <td>0</td>\n",
       "      <td>IP_1140263</td>\n",
       "      <td>70.0</td>\n",
       "      <td>male</td>\n",
       "      <td>anterior torso</td>\n",
       "      <td>6.80</td>\n",
       "      <td>TBP tile: close-up</td>\n",
       "      <td>3D: XP</td>\n",
       "      <td>22.574335</td>\n",
       "      <td>...</td>\n",
       "      <td>IL_9520694</td>\n",
       "      <td>Benign</td>\n",
       "      <td>Benign</td>\n",
       "      <td>NaN</td>\n",
       "      <td>NaN</td>\n",
       "      <td>NaN</td>\n",
       "      <td>NaN</td>\n",
       "      <td>NaN</td>\n",
       "      <td>NaN</td>\n",
       "      <td>99.999988</td>\n",
       "    </tr>\n",
       "    <tr>\n",
       "      <th>401055</th>\n",
       "      <td>ISIC_9999951</td>\n",
       "      <td>0</td>\n",
       "      <td>IP_5678181</td>\n",
       "      <td>60.0</td>\n",
       "      <td>male</td>\n",
       "      <td>posterior torso</td>\n",
       "      <td>3.11</td>\n",
       "      <td>TBP tile: close-up</td>\n",
       "      <td>3D: white</td>\n",
       "      <td>19.977640</td>\n",
       "      <td>...</td>\n",
       "      <td>NaN</td>\n",
       "      <td>Benign</td>\n",
       "      <td>Benign</td>\n",
       "      <td>NaN</td>\n",
       "      <td>NaN</td>\n",
       "      <td>NaN</td>\n",
       "      <td>NaN</td>\n",
       "      <td>NaN</td>\n",
       "      <td>NaN</td>\n",
       "      <td>99.999820</td>\n",
       "    </tr>\n",
       "    <tr>\n",
       "      <th>401056</th>\n",
       "      <td>ISIC_9999960</td>\n",
       "      <td>0</td>\n",
       "      <td>IP_0076153</td>\n",
       "      <td>65.0</td>\n",
       "      <td>female</td>\n",
       "      <td>anterior torso</td>\n",
       "      <td>2.05</td>\n",
       "      <td>TBP tile: close-up</td>\n",
       "      <td>3D: XP</td>\n",
       "      <td>17.332567</td>\n",
       "      <td>...</td>\n",
       "      <td>IL_9852274</td>\n",
       "      <td>Benign</td>\n",
       "      <td>Benign</td>\n",
       "      <td>NaN</td>\n",
       "      <td>NaN</td>\n",
       "      <td>NaN</td>\n",
       "      <td>NaN</td>\n",
       "      <td>NaN</td>\n",
       "      <td>NaN</td>\n",
       "      <td>99.999416</td>\n",
       "    </tr>\n",
       "    <tr>\n",
       "      <th>401057</th>\n",
       "      <td>ISIC_9999964</td>\n",
       "      <td>0</td>\n",
       "      <td>IP_5231513</td>\n",
       "      <td>30.0</td>\n",
       "      <td>female</td>\n",
       "      <td>anterior torso</td>\n",
       "      <td>2.80</td>\n",
       "      <td>TBP tile: close-up</td>\n",
       "      <td>3D: XP</td>\n",
       "      <td>22.288570</td>\n",
       "      <td>...</td>\n",
       "      <td>NaN</td>\n",
       "      <td>Benign</td>\n",
       "      <td>Benign</td>\n",
       "      <td>NaN</td>\n",
       "      <td>NaN</td>\n",
       "      <td>NaN</td>\n",
       "      <td>NaN</td>\n",
       "      <td>NaN</td>\n",
       "      <td>NaN</td>\n",
       "      <td>100.000000</td>\n",
       "    </tr>\n",
       "    <tr>\n",
       "      <th>401058</th>\n",
       "      <td>ISIC_9999967</td>\n",
       "      <td>0</td>\n",
       "      <td>IP_6426047</td>\n",
       "      <td>50.0</td>\n",
       "      <td>male</td>\n",
       "      <td>lower extremity</td>\n",
       "      <td>3.30</td>\n",
       "      <td>TBP tile: close-up</td>\n",
       "      <td>3D: XP</td>\n",
       "      <td>16.792900</td>\n",
       "      <td>...</td>\n",
       "      <td>NaN</td>\n",
       "      <td>Benign</td>\n",
       "      <td>Benign</td>\n",
       "      <td>NaN</td>\n",
       "      <td>NaN</td>\n",
       "      <td>NaN</td>\n",
       "      <td>NaN</td>\n",
       "      <td>NaN</td>\n",
       "      <td>NaN</td>\n",
       "      <td>99.999960</td>\n",
       "    </tr>\n",
       "  </tbody>\n",
       "</table>\n",
       "<p>401059 rows × 55 columns</p>\n",
       "</div>"
      ],
      "text/plain": [
       "             isic_id  target  patient_id  age_approx     sex  \\\n",
       "0       ISIC_0015670       0  IP_1235828        60.0    male   \n",
       "1       ISIC_0015845       0  IP_8170065        60.0    male   \n",
       "2       ISIC_0015864       0  IP_6724798        60.0    male   \n",
       "3       ISIC_0015902       0  IP_4111386        65.0    male   \n",
       "4       ISIC_0024200       0  IP_8313778        55.0    male   \n",
       "...              ...     ...         ...         ...     ...   \n",
       "401054  ISIC_9999937       0  IP_1140263        70.0    male   \n",
       "401055  ISIC_9999951       0  IP_5678181        60.0    male   \n",
       "401056  ISIC_9999960       0  IP_0076153        65.0  female   \n",
       "401057  ISIC_9999964       0  IP_5231513        30.0  female   \n",
       "401058  ISIC_9999967       0  IP_6426047        50.0    male   \n",
       "\n",
       "       anatom_site_general  clin_size_long_diam_mm          image_type  \\\n",
       "0          lower extremity                    3.04  TBP tile: close-up   \n",
       "1                head/neck                    1.10  TBP tile: close-up   \n",
       "2          posterior torso                    3.40  TBP tile: close-up   \n",
       "3           anterior torso                    3.22  TBP tile: close-up   \n",
       "4           anterior torso                    2.73  TBP tile: close-up   \n",
       "...                    ...                     ...                 ...   \n",
       "401054      anterior torso                    6.80  TBP tile: close-up   \n",
       "401055     posterior torso                    3.11  TBP tile: close-up   \n",
       "401056      anterior torso                    2.05  TBP tile: close-up   \n",
       "401057      anterior torso                    2.80  TBP tile: close-up   \n",
       "401058     lower extremity                    3.30  TBP tile: close-up   \n",
       "\n",
       "       tbp_tile_type   tbp_lv_A  ...   lesion_id  iddx_full  iddx_1  iddx_2  \\\n",
       "0          3D: white  20.244422  ...         NaN     Benign  Benign     NaN   \n",
       "1          3D: white  31.712570  ...  IL_6727506     Benign  Benign     NaN   \n",
       "2             3D: XP  22.575830  ...         NaN     Benign  Benign     NaN   \n",
       "3             3D: XP  14.242329  ...         NaN     Benign  Benign     NaN   \n",
       "4          3D: white  24.725520  ...         NaN     Benign  Benign     NaN   \n",
       "...              ...        ...  ...         ...        ...     ...     ...   \n",
       "401054        3D: XP  22.574335  ...  IL_9520694     Benign  Benign     NaN   \n",
       "401055     3D: white  19.977640  ...         NaN     Benign  Benign     NaN   \n",
       "401056        3D: XP  17.332567  ...  IL_9852274     Benign  Benign     NaN   \n",
       "401057        3D: XP  22.288570  ...         NaN     Benign  Benign     NaN   \n",
       "401058        3D: XP  16.792900  ...         NaN     Benign  Benign     NaN   \n",
       "\n",
       "        iddx_3  iddx_4  iddx_5  mel_mitotic_index  mel_thick_mm  \\\n",
       "0          NaN     NaN     NaN                NaN           NaN   \n",
       "1          NaN     NaN     NaN                NaN           NaN   \n",
       "2          NaN     NaN     NaN                NaN           NaN   \n",
       "3          NaN     NaN     NaN                NaN           NaN   \n",
       "4          NaN     NaN     NaN                NaN           NaN   \n",
       "...        ...     ...     ...                ...           ...   \n",
       "401054     NaN     NaN     NaN                NaN           NaN   \n",
       "401055     NaN     NaN     NaN                NaN           NaN   \n",
       "401056     NaN     NaN     NaN                NaN           NaN   \n",
       "401057     NaN     NaN     NaN                NaN           NaN   \n",
       "401058     NaN     NaN     NaN                NaN           NaN   \n",
       "\n",
       "        tbp_lv_dnn_lesion_confidence  \n",
       "0                          97.517282  \n",
       "1                           3.141455  \n",
       "2                          99.804040  \n",
       "3                          99.989998  \n",
       "4                          70.442510  \n",
       "...                              ...  \n",
       "401054                     99.999988  \n",
       "401055                     99.999820  \n",
       "401056                     99.999416  \n",
       "401057                    100.000000  \n",
       "401058                     99.999960  \n",
       "\n",
       "[401059 rows x 55 columns]"
      ]
     },
     "execution_count": 7,
     "metadata": {},
     "output_type": "execute_result"
    }
   ],
   "source": [
    "training_meta_data"
   ]
  },
  {
   "cell_type": "code",
   "execution_count": 8,
   "id": "731ab74e",
   "metadata": {
    "execution": {
     "iopub.execute_input": "2024-07-10T19:36:27.632356Z",
     "iopub.status.busy": "2024-07-10T19:36:27.631419Z",
     "iopub.status.idle": "2024-07-10T19:36:27.636848Z",
     "shell.execute_reply": "2024-07-10T19:36:27.635669Z"
    },
    "papermill": {
     "duration": 0.019099,
     "end_time": "2024-07-10T19:36:27.639322",
     "exception": false,
     "start_time": "2024-07-10T19:36:27.620223",
     "status": "completed"
    },
    "tags": []
   },
   "outputs": [],
   "source": [
    "test_meta_data_path = os.path.join(DIR,\"test-metadata.csv\")"
   ]
  },
  {
   "cell_type": "code",
   "execution_count": 9,
   "id": "add5203e",
   "metadata": {
    "execution": {
     "iopub.execute_input": "2024-07-10T19:36:27.660996Z",
     "iopub.status.busy": "2024-07-10T19:36:27.660573Z",
     "iopub.status.idle": "2024-07-10T19:36:27.672006Z",
     "shell.execute_reply": "2024-07-10T19:36:27.670909Z"
    },
    "papermill": {
     "duration": 0.025569,
     "end_time": "2024-07-10T19:36:27.674707",
     "exception": false,
     "start_time": "2024-07-10T19:36:27.649138",
     "status": "completed"
    },
    "tags": []
   },
   "outputs": [],
   "source": [
    "test_meta_data = pd.read_csv(test_meta_data_path)"
   ]
  },
  {
   "cell_type": "code",
   "execution_count": 10,
   "id": "d9cae662",
   "metadata": {
    "execution": {
     "iopub.execute_input": "2024-07-10T19:36:27.696363Z",
     "iopub.status.busy": "2024-07-10T19:36:27.695338Z",
     "iopub.status.idle": "2024-07-10T19:36:27.721014Z",
     "shell.execute_reply": "2024-07-10T19:36:27.719921Z"
    },
    "papermill": {
     "duration": 0.03897,
     "end_time": "2024-07-10T19:36:27.723320",
     "exception": false,
     "start_time": "2024-07-10T19:36:27.684350",
     "status": "completed"
    },
    "tags": []
   },
   "outputs": [
    {
     "data": {
      "text/html": [
       "<div>\n",
       "<style scoped>\n",
       "    .dataframe tbody tr th:only-of-type {\n",
       "        vertical-align: middle;\n",
       "    }\n",
       "\n",
       "    .dataframe tbody tr th {\n",
       "        vertical-align: top;\n",
       "    }\n",
       "\n",
       "    .dataframe thead th {\n",
       "        text-align: right;\n",
       "    }\n",
       "</style>\n",
       "<table border=\"1\" class=\"dataframe\">\n",
       "  <thead>\n",
       "    <tr style=\"text-align: right;\">\n",
       "      <th></th>\n",
       "      <th>isic_id</th>\n",
       "      <th>patient_id</th>\n",
       "      <th>age_approx</th>\n",
       "      <th>sex</th>\n",
       "      <th>anatom_site_general</th>\n",
       "      <th>clin_size_long_diam_mm</th>\n",
       "      <th>image_type</th>\n",
       "      <th>tbp_tile_type</th>\n",
       "      <th>tbp_lv_A</th>\n",
       "      <th>tbp_lv_Aext</th>\n",
       "      <th>...</th>\n",
       "      <th>tbp_lv_radial_color_std_max</th>\n",
       "      <th>tbp_lv_stdL</th>\n",
       "      <th>tbp_lv_stdLExt</th>\n",
       "      <th>tbp_lv_symm_2axis</th>\n",
       "      <th>tbp_lv_symm_2axis_angle</th>\n",
       "      <th>tbp_lv_x</th>\n",
       "      <th>tbp_lv_y</th>\n",
       "      <th>tbp_lv_z</th>\n",
       "      <th>attribution</th>\n",
       "      <th>copyright_license</th>\n",
       "    </tr>\n",
       "  </thead>\n",
       "  <tbody>\n",
       "    <tr>\n",
       "      <th>0</th>\n",
       "      <td>ISIC_0015657</td>\n",
       "      <td>IP_6074337</td>\n",
       "      <td>45.0</td>\n",
       "      <td>male</td>\n",
       "      <td>posterior torso</td>\n",
       "      <td>2.70</td>\n",
       "      <td>TBP tile: close-up</td>\n",
       "      <td>3D: XP</td>\n",
       "      <td>22.80433</td>\n",
       "      <td>20.007270</td>\n",
       "      <td>...</td>\n",
       "      <td>0.304827</td>\n",
       "      <td>1.281532</td>\n",
       "      <td>31.114600</td>\n",
       "      <td>0.479339</td>\n",
       "      <td>20</td>\n",
       "      <td>-155.06510</td>\n",
       "      <td>1511.222000</td>\n",
       "      <td>113.980100</td>\n",
       "      <td>Memorial Sloan Kettering Cancer Center</td>\n",
       "      <td>CC-BY</td>\n",
       "    </tr>\n",
       "    <tr>\n",
       "      <th>1</th>\n",
       "      <td>ISIC_0015729</td>\n",
       "      <td>IP_1664139</td>\n",
       "      <td>35.0</td>\n",
       "      <td>female</td>\n",
       "      <td>lower extremity</td>\n",
       "      <td>2.52</td>\n",
       "      <td>TBP tile: close-up</td>\n",
       "      <td>3D: XP</td>\n",
       "      <td>16.64867</td>\n",
       "      <td>9.657964</td>\n",
       "      <td>...</td>\n",
       "      <td>0.000000</td>\n",
       "      <td>1.271940</td>\n",
       "      <td>68.141071</td>\n",
       "      <td>0.426230</td>\n",
       "      <td>25</td>\n",
       "      <td>-112.36924</td>\n",
       "      <td>629.535889</td>\n",
       "      <td>-15.019287</td>\n",
       "      <td>Frazer Institute, The University of Queensland...</td>\n",
       "      <td>CC-BY</td>\n",
       "    </tr>\n",
       "    <tr>\n",
       "      <th>2</th>\n",
       "      <td>ISIC_0015740</td>\n",
       "      <td>IP_7142616</td>\n",
       "      <td>65.0</td>\n",
       "      <td>male</td>\n",
       "      <td>posterior torso</td>\n",
       "      <td>3.16</td>\n",
       "      <td>TBP tile: close-up</td>\n",
       "      <td>3D: XP</td>\n",
       "      <td>24.25384</td>\n",
       "      <td>19.937380</td>\n",
       "      <td>...</td>\n",
       "      <td>0.230742</td>\n",
       "      <td>1.080308</td>\n",
       "      <td>41.358640</td>\n",
       "      <td>0.366071</td>\n",
       "      <td>110</td>\n",
       "      <td>-84.29282</td>\n",
       "      <td>1303.978000</td>\n",
       "      <td>-28.576050</td>\n",
       "      <td>FNQH Cairns</td>\n",
       "      <td>CC-BY</td>\n",
       "    </tr>\n",
       "  </tbody>\n",
       "</table>\n",
       "<p>3 rows × 44 columns</p>\n",
       "</div>"
      ],
      "text/plain": [
       "        isic_id  patient_id  age_approx     sex anatom_site_general  \\\n",
       "0  ISIC_0015657  IP_6074337        45.0    male     posterior torso   \n",
       "1  ISIC_0015729  IP_1664139        35.0  female     lower extremity   \n",
       "2  ISIC_0015740  IP_7142616        65.0    male     posterior torso   \n",
       "\n",
       "   clin_size_long_diam_mm          image_type tbp_tile_type  tbp_lv_A  \\\n",
       "0                    2.70  TBP tile: close-up        3D: XP  22.80433   \n",
       "1                    2.52  TBP tile: close-up        3D: XP  16.64867   \n",
       "2                    3.16  TBP tile: close-up        3D: XP  24.25384   \n",
       "\n",
       "   tbp_lv_Aext  ...  tbp_lv_radial_color_std_max  tbp_lv_stdL  tbp_lv_stdLExt  \\\n",
       "0    20.007270  ...                     0.304827     1.281532       31.114600   \n",
       "1     9.657964  ...                     0.000000     1.271940       68.141071   \n",
       "2    19.937380  ...                     0.230742     1.080308       41.358640   \n",
       "\n",
       "   tbp_lv_symm_2axis  tbp_lv_symm_2axis_angle   tbp_lv_x     tbp_lv_y  \\\n",
       "0           0.479339                       20 -155.06510  1511.222000   \n",
       "1           0.426230                       25 -112.36924   629.535889   \n",
       "2           0.366071                      110  -84.29282  1303.978000   \n",
       "\n",
       "     tbp_lv_z                                        attribution  \\\n",
       "0  113.980100             Memorial Sloan Kettering Cancer Center   \n",
       "1  -15.019287  Frazer Institute, The University of Queensland...   \n",
       "2  -28.576050                                        FNQH Cairns   \n",
       "\n",
       "   copyright_license  \n",
       "0              CC-BY  \n",
       "1              CC-BY  \n",
       "2              CC-BY  \n",
       "\n",
       "[3 rows x 44 columns]"
      ]
     },
     "execution_count": 10,
     "metadata": {},
     "output_type": "execute_result"
    }
   ],
   "source": [
    "test_meta_data"
   ]
  },
  {
   "cell_type": "code",
   "execution_count": 11,
   "id": "ae9bc542",
   "metadata": {
    "execution": {
     "iopub.execute_input": "2024-07-10T19:36:27.746291Z",
     "iopub.status.busy": "2024-07-10T19:36:27.745185Z",
     "iopub.status.idle": "2024-07-10T19:36:44.131302Z",
     "shell.execute_reply": "2024-07-10T19:36:44.129910Z"
    },
    "papermill": {
     "duration": 16.400191,
     "end_time": "2024-07-10T19:36:44.134149",
     "exception": false,
     "start_time": "2024-07-10T19:36:27.733958",
     "status": "completed"
    },
    "tags": []
   },
   "outputs": [
    {
     "name": "stdout",
     "output_type": "stream",
     "text": [
      "Requirement already satisfied: h5py in /opt/conda/lib/python3.10/site-packages (3.10.0)\r\n",
      "Requirement already satisfied: numpy>=1.17.3 in /opt/conda/lib/python3.10/site-packages (from h5py) (1.26.4)\r\n"
     ]
    }
   ],
   "source": [
    "# installing package h5py https://docs.h5py.org/en/stable/quick.html\n",
    "!pip install h5py"
   ]
  },
  {
   "cell_type": "code",
   "execution_count": 12,
   "id": "95947149",
   "metadata": {
    "execution": {
     "iopub.execute_input": "2024-07-10T19:36:44.156731Z",
     "iopub.status.busy": "2024-07-10T19:36:44.156296Z",
     "iopub.status.idle": "2024-07-10T19:36:44.175377Z",
     "shell.execute_reply": "2024-07-10T19:36:44.174302Z"
    },
    "papermill": {
     "duration": 0.033523,
     "end_time": "2024-07-10T19:36:44.177885",
     "exception": false,
     "start_time": "2024-07-10T19:36:44.144362",
     "status": "completed"
    },
    "tags": []
   },
   "outputs": [],
   "source": [
    "training_file = h5py.File(os.path.join(DIR,\"train-image.hdf5\"))"
   ]
  },
  {
   "cell_type": "code",
   "execution_count": 13,
   "id": "bedc5b36",
   "metadata": {
    "execution": {
     "iopub.execute_input": "2024-07-10T19:36:44.200104Z",
     "iopub.status.busy": "2024-07-10T19:36:44.199682Z",
     "iopub.status.idle": "2024-07-10T19:36:44.382114Z",
     "shell.execute_reply": "2024-07-10T19:36:44.381123Z"
    },
    "papermill": {
     "duration": 0.196586,
     "end_time": "2024-07-10T19:36:44.384784",
     "exception": false,
     "start_time": "2024-07-10T19:36:44.188198",
     "status": "completed"
    },
    "tags": []
   },
   "outputs": [],
   "source": [
    "training_meta_data_benign = training_meta_data[training_meta_data[\"target\"]==0]"
   ]
  },
  {
   "cell_type": "code",
   "execution_count": 14,
   "id": "409ff8ee",
   "metadata": {
    "execution": {
     "iopub.execute_input": "2024-07-10T19:36:44.406651Z",
     "iopub.status.busy": "2024-07-10T19:36:44.406240Z",
     "iopub.status.idle": "2024-07-10T19:36:44.413190Z",
     "shell.execute_reply": "2024-07-10T19:36:44.412127Z"
    },
    "papermill": {
     "duration": 0.020888,
     "end_time": "2024-07-10T19:36:44.415805",
     "exception": false,
     "start_time": "2024-07-10T19:36:44.394917",
     "status": "completed"
    },
    "tags": []
   },
   "outputs": [
    {
     "data": {
      "text/plain": [
       "400666"
      ]
     },
     "execution_count": 14,
     "metadata": {},
     "output_type": "execute_result"
    }
   ],
   "source": [
    "#Count of Benign Instances\n",
    "len(training_meta_data_benign)"
   ]
  },
  {
   "cell_type": "code",
   "execution_count": 15,
   "id": "541842a3",
   "metadata": {
    "execution": {
     "iopub.execute_input": "2024-07-10T19:36:44.437960Z",
     "iopub.status.busy": "2024-07-10T19:36:44.437564Z",
     "iopub.status.idle": "2024-07-10T19:36:44.445211Z",
     "shell.execute_reply": "2024-07-10T19:36:44.444254Z"
    },
    "papermill": {
     "duration": 0.021552,
     "end_time": "2024-07-10T19:36:44.447573",
     "exception": false,
     "start_time": "2024-07-10T19:36:44.426021",
     "status": "completed"
    },
    "tags": []
   },
   "outputs": [],
   "source": [
    "training_meta_data_malignant = training_meta_data[training_meta_data[\"target\"]==1]"
   ]
  },
  {
   "cell_type": "code",
   "execution_count": 16,
   "id": "1ae3969d",
   "metadata": {
    "execution": {
     "iopub.execute_input": "2024-07-10T19:36:44.470006Z",
     "iopub.status.busy": "2024-07-10T19:36:44.469624Z",
     "iopub.status.idle": "2024-07-10T19:36:44.476893Z",
     "shell.execute_reply": "2024-07-10T19:36:44.475709Z"
    },
    "papermill": {
     "duration": 0.021527,
     "end_time": "2024-07-10T19:36:44.479340",
     "exception": false,
     "start_time": "2024-07-10T19:36:44.457813",
     "status": "completed"
    },
    "tags": []
   },
   "outputs": [
    {
     "data": {
      "text/plain": [
       "393"
      ]
     },
     "execution_count": 16,
     "metadata": {},
     "output_type": "execute_result"
    }
   ],
   "source": [
    "len(training_meta_data_malignant)"
   ]
  },
  {
   "cell_type": "code",
   "execution_count": 17,
   "id": "d9605358",
   "metadata": {
    "execution": {
     "iopub.execute_input": "2024-07-10T19:36:44.502652Z",
     "iopub.status.busy": "2024-07-10T19:36:44.501853Z",
     "iopub.status.idle": "2024-07-10T20:13:16.693303Z",
     "shell.execute_reply": "2024-07-10T20:13:16.690687Z"
    },
    "papermill": {
     "duration": 2192.210148,
     "end_time": "2024-07-10T20:13:16.700171",
     "exception": false,
     "start_time": "2024-07-10T19:36:44.490023",
     "status": "completed"
    },
    "tags": []
   },
   "outputs": [],
   "source": [
    "new_training_data=\"new_training_data\"\n",
    "malignant_dir = \"malignant\"\n",
    "benign_dir = \"benign\"\n",
    "os.mkdir(os.path.join(new_training_data))\n",
    "os.mkdir(os.path.join(new_training_data,malignant_dir))\n",
    "os.mkdir(os.path.join(new_training_data,benign_dir))\n",
    "new_training_data_malignant = training_meta_data_malignant['isic_id'].apply(lambda x: shutil.copy(os.path.join(train_dir,x+\".jpg\"),os.path.join(new_training_data,malignant_dir,x+\".jpg\")))\n",
    "new_training_data_benign = training_meta_data_benign['isic_id'].apply(lambda x: shutil.copy(os.path.join(train_dir,x+\".jpg\"),os.path.join(new_training_data,benign_dir,x+\".jpg\")))"
   ]
  },
  {
   "cell_type": "code",
   "execution_count": null,
   "id": "26a771f7",
   "metadata": {
    "papermill": {
     "duration": 0.010395,
     "end_time": "2024-07-10T20:13:16.725080",
     "exception": false,
     "start_time": "2024-07-10T20:13:16.714685",
     "status": "completed"
    },
    "tags": []
   },
   "outputs": [],
   "source": [
    "\n"
   ]
  },
  {
   "cell_type": "code",
   "execution_count": null,
   "id": "13ed2577",
   "metadata": {
    "papermill": {
     "duration": 0.010696,
     "end_time": "2024-07-10T20:13:16.747769",
     "exception": false,
     "start_time": "2024-07-10T20:13:16.737073",
     "status": "completed"
    },
    "tags": []
   },
   "outputs": [],
   "source": []
  },
  {
   "cell_type": "code",
   "execution_count": null,
   "id": "2691891a",
   "metadata": {
    "papermill": {
     "duration": 0.010092,
     "end_time": "2024-07-10T20:13:16.768250",
     "exception": false,
     "start_time": "2024-07-10T20:13:16.758158",
     "status": "completed"
    },
    "tags": []
   },
   "outputs": [],
   "source": []
  },
  {
   "cell_type": "code",
   "execution_count": null,
   "id": "2c982b01",
   "metadata": {
    "papermill": {
     "duration": 0.010154,
     "end_time": "2024-07-10T20:13:16.789028",
     "exception": false,
     "start_time": "2024-07-10T20:13:16.778874",
     "status": "completed"
    },
    "tags": []
   },
   "outputs": [],
   "source": []
  },
  {
   "cell_type": "code",
   "execution_count": null,
   "id": "9b000753",
   "metadata": {
    "papermill": {
     "duration": 0.010205,
     "end_time": "2024-07-10T20:13:16.809763",
     "exception": false,
     "start_time": "2024-07-10T20:13:16.799558",
     "status": "completed"
    },
    "tags": []
   },
   "outputs": [],
   "source": []
  },
  {
   "cell_type": "code",
   "execution_count": null,
   "id": "9c2abc97",
   "metadata": {
    "papermill": {
     "duration": 0.010114,
     "end_time": "2024-07-10T20:13:16.830419",
     "exception": false,
     "start_time": "2024-07-10T20:13:16.820305",
     "status": "completed"
    },
    "tags": []
   },
   "outputs": [],
   "source": []
  },
  {
   "cell_type": "code",
   "execution_count": null,
   "id": "d883ab78",
   "metadata": {
    "papermill": {
     "duration": 0.010027,
     "end_time": "2024-07-10T20:13:16.851037",
     "exception": false,
     "start_time": "2024-07-10T20:13:16.841010",
     "status": "completed"
    },
    "tags": []
   },
   "outputs": [],
   "source": []
  },
  {
   "cell_type": "code",
   "execution_count": null,
   "id": "0360c33c",
   "metadata": {
    "papermill": {
     "duration": 0.010105,
     "end_time": "2024-07-10T20:13:16.871539",
     "exception": false,
     "start_time": "2024-07-10T20:13:16.861434",
     "status": "completed"
    },
    "tags": []
   },
   "outputs": [],
   "source": []
  },
  {
   "cell_type": "code",
   "execution_count": null,
   "id": "876c0e11",
   "metadata": {
    "papermill": {
     "duration": 0.01015,
     "end_time": "2024-07-10T20:13:16.892089",
     "exception": false,
     "start_time": "2024-07-10T20:13:16.881939",
     "status": "completed"
    },
    "tags": []
   },
   "outputs": [],
   "source": []
  },
  {
   "cell_type": "code",
   "execution_count": null,
   "id": "be78c2ae",
   "metadata": {
    "papermill": {
     "duration": 0.010027,
     "end_time": "2024-07-10T20:13:16.912626",
     "exception": false,
     "start_time": "2024-07-10T20:13:16.902599",
     "status": "completed"
    },
    "tags": []
   },
   "outputs": [],
   "source": []
  },
  {
   "cell_type": "code",
   "execution_count": null,
   "id": "d4601ea3",
   "metadata": {
    "papermill": {
     "duration": 0.010138,
     "end_time": "2024-07-10T20:13:16.933077",
     "exception": false,
     "start_time": "2024-07-10T20:13:16.922939",
     "status": "completed"
    },
    "tags": []
   },
   "outputs": [],
   "source": []
  }
 ],
 "metadata": {
  "kaggle": {
   "accelerator": "none",
   "dataSources": [
    {
     "databundleVersionId": 8940774,
     "sourceId": 63056,
     "sourceType": "competition"
    }
   ],
   "dockerImageVersionId": 30732,
   "isGpuEnabled": false,
   "isInternetEnabled": true,
   "language": "python",
   "sourceType": "notebook"
  },
  "kernelspec": {
   "display_name": "Python 3",
   "language": "python",
   "name": "python3"
  },
  "language_info": {
   "codemirror_mode": {
    "name": "ipython",
    "version": 3
   },
   "file_extension": ".py",
   "mimetype": "text/x-python",
   "name": "python",
   "nbconvert_exporter": "python",
   "pygments_lexer": "ipython3",
   "version": "3.10.13"
  },
  "papermill": {
   "default_parameters": {},
   "duration": 2246.566987,
   "end_time": "2024-07-10T20:13:20.072176",
   "environment_variables": {},
   "exception": null,
   "input_path": "__notebook__.ipynb",
   "output_path": "__notebook__.ipynb",
   "parameters": {},
   "start_time": "2024-07-10T19:35:53.505189",
   "version": "2.5.0"
  }
 },
 "nbformat": 4,
 "nbformat_minor": 5
}
